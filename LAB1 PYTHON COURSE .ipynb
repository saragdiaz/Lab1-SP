{
 "cells": [
  {
   "cell_type": "code",
   "execution_count": 28,
   "id": "d9bb8091",
   "metadata": {},
   "outputs": [
    {
     "name": "stdout",
     "output_type": "stream",
     "text": [
      "Reversed content:\n",
      "?llams os sgniht ssim ytivarg seod rO\n",
      "kcul tsuj ti saw rO\n",
      "kcuts teef sti esuaceB\n",
      "llaf ti t'ndid yhw rednow I\n",
      "llaw eht no ylf a saw ecno erehT\n",
      "\n",
      "nawoC .D treboR yb\n",
      "llaW eht no ylF a ereW I hsiW\n"
     ]
    }
   ],
   "source": [
    "def backwfunction(strtoreverse):\n",
    "    revstr = ''\n",
    "    for char in strtoreverse:\n",
    "        revstr = char +  revstr\n",
    "    return revstr\n",
    "\n",
    "strtoreverse = \"\"\n",
    "\n",
    "revstr = backwfunction(strtoreverse)\n",
    "\n",
    "def reverse_string_in_file(input_filename):\n",
    "\n",
    "        with open(input_filename, 'r') as file:\n",
    "            input_string = file.read()\n",
    "\n",
    "        reversed_string = backwfunction(input_string)\n",
    "        return reversed_string\n",
    "   \n",
    "\n",
    "# With dowloaded data on Jupyter Platform \n",
    "input_filename = \"PLimerick.txt\" #this will change depending on the name of your file\n",
    "reversed_content = reverse_string_in_file(input_filename)\n",
    "\n",
    "# Print the reversed content\n",
    "print(\"Reversed content:\")\n",
    "print(reversed_content)\n"
   ]
  },
  {
   "cell_type": "code",
   "execution_count": null,
   "id": "31a18a81",
   "metadata": {},
   "outputs": [],
   "source": []
  }
 ],
 "metadata": {
  "kernelspec": {
   "display_name": "Python 3 (ipykernel)",
   "language": "python",
   "name": "python3"
  },
  "language_info": {
   "codemirror_mode": {
    "name": "ipython",
    "version": 3
   },
   "file_extension": ".py",
   "mimetype": "text/x-python",
   "name": "python",
   "nbconvert_exporter": "python",
   "pygments_lexer": "ipython3",
   "version": "3.10.9"
  }
 },
 "nbformat": 4,
 "nbformat_minor": 5
}
